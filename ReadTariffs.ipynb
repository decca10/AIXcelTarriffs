{
 "cells": [
  {
   "cell_type": "code",
   "execution_count": 38,
   "metadata": {},
   "outputs": [],
   "source": [
    "#from PyPDF2 import PdfReader\n",
    "import PyPDF2\n",
    "import pandas as pd\n",
    "import openai\n",
    "import os\n",
    "from IPython.display import display, HTML\n",
    "\n",
    "from dotenv import load_dotenv, find_dotenv\n",
    "_ = load_dotenv(find_dotenv())\n",
    "\n",
    "openai.api_key  = os.getenv('OPENAI_API_KEY')\n",
    "state = \"Colorado\"\n",
    "psco_tar = \"PSCo_Electric_Entire_Tariff.pdf\""
   ]
  },
  {
   "cell_type": "code",
   "execution_count": 47,
   "metadata": {},
   "outputs": [
    {
     "data": {
      "text/html": [
       "It appears you have provided a detailed index of the Electric Tariff for the Public Service Company of Colorado. This index outlines the various schedules and rates for electric service provided by the company, including residential, commercial, industrial, and special contract rates, as well as optional service rates and rate adjustments.\n",
       "\n",
       "The index also includes sections on rules and regulations, small power production and cogeneration policies, and the cover page of the tariff document with the advice letter number, decision/proceeding number, issue date, and effective date.\n",
       "\n",
       "If you have specific questions about any of the rates, policies, or services listed in the index, or if you need further information about the Public Service Company of Colorado's electric tariffs, please let me know, and I'll do my best to assist you.It appears you have provided excerpts from the Public Service Company of Colorado's electric tariff sheets. These sheets are part of a document that outlines the rates, rules, and regulations for electric service provided by the utility company. The document includes various schedules for different types of electric services, such as residential, commercial, industrial, and street lighting services, as well as rate adjustments and rules and regulations governing the provision of electric service.\n",
       "\n",
       "The tariff sheets also include information about the territories served by the Public Service Company of Colorado, listing cities, towns, and communities within the service area, along with the corresponding counties.\n",
       "\n",
       "The document is structured with a table of contents, advice letter numbers, decision or proceeding numbers, issue dates, effective dates, and the contact information for the Regional Vice President of Rates & Regulatory Affairs. Additionally, there are key symbols used to indicate changes in the tariff sheets, such as rate increases or decreases, text changes, new material, and other modifications.\n",
       "\n",
       "The excerpts you've provided seem to be from different revisions of the tariff sheets, with the last one showing an amendment date of June 30, 2017, and an effective date of July 13, 2017. Please note that these documents are subject to change and are typically filed with and approved by the Colorado Public Utilities Commission (PUC). If you need the most current information or have specific questions about the rates and services, you should contact the Public Service Company of Colorado directly or visit the Colorado PUC's website for the latest filings."
      ],
      "text/plain": [
       "<IPython.core.display.HTML object>"
      ]
     },
     "metadata": {},
     "output_type": "display_data"
    }
   ],
   "source": [
    "prompt = f\"\"\"\n",
    "Please extract detailed electric tariff rates from the provided PDF document and categorize \n",
    "them line by line as follows:\n",
    "\n",
    "<Residential Rates>:\n",
    "- List all residential tariff rates with rate names and associated costs.\n",
    "- Include any information about seasonal variations in residential rates.\n",
    "- Mention any time-of-use (TOU) details specific to residential rates.\n",
    "- Identify any incentives or programs related to residential rates.\n",
    "\n",
    "<Commercial Rates>:\n",
    "- List all commercial tariff rates with rate names and associated costs.\n",
    "- Include any information about seasonal variations in commercial rates.\n",
    "- Mention any time-of-use (TOU) details specific to commercial rates.\n",
    "- Identify any incentives or programs related to commercial rates.\n",
    "\n",
    "Please provide this information based on the content of the PDF document. Thank you.\n",
    "```{text}```\n",
    "\"\"\"\n",
    "\n",
    "# Define the get_completion function\n",
    "def get_completion(prompt, model=\"gpt-4-1106-preview\"):\n",
    "    messages = [{\"role\": \"user\", \"content\": prompt}]\n",
    "    response = openai.ChatCompletion.create(\n",
    "        model=model,\n",
    "        messages=messages,\n",
    "        temperature=0,  # This is the degree of randomness of the model's output\n",
    "    )\n",
    "    return response.choices[0].message[\"content\"]\n",
    "\n",
    "# Define a function to process a chunk of pages\n",
    "def process_chunk(chunk):\n",
    "    chunk_text = \"\"\n",
    "    for page in chunk:\n",
    "        text = page.extract_text()\n",
    "        chunk_text += text\n",
    "    # Call the get_completion function with the chunk text\n",
    "    completion = get_completion(chunk_text)\n",
    "    return completion\n",
    "\n",
    "# Open the PDF file in read-binary mode\n",
    "with open(psco_tar, 'rb') as pdf_file:\n",
    "    pdf_reader = PyPDF2.PdfReader(pdf_file)\n",
    "    total_pages = 10\n",
    "    chunk_size = 5  # Set the number of pages per chunk\n",
    "    response_string = \"\"\n",
    "\n",
    "    for start_page in range(0, total_pages, chunk_size):\n",
    "        end_page = min(start_page + chunk_size, total_pages)\n",
    "\n",
    "        # Create a list to store pages in the current chunk\n",
    "        chunk = []\n",
    "        for page_num in range(start_page, end_page):\n",
    "            page = pdf_reader.pages[page_num]\n",
    "            chunk.append(page)\n",
    "\n",
    "        # Call the processing function for the current chunk and append the result\n",
    "        completion = process_chunk(chunk)\n",
    "        response_string += completion\n",
    "\n",
    "# Close the PDF file\n",
    "pdf_file.close()\n",
    "\n",
    "# The final result is stored in the response_string variable\n",
    "display(HTML(response_string))\n",
    "#print(response_string)"
   ]
  },
  {
   "cell_type": "code",
   "execution_count": null,
   "metadata": {},
   "outputs": [],
   "source": []
  }
 ],
 "metadata": {
  "kernelspec": {
   "display_name": "Python 3",
   "language": "python",
   "name": "python3"
  },
  "language_info": {
   "codemirror_mode": {
    "name": "ipython",
    "version": 3
   },
   "file_extension": ".py",
   "mimetype": "text/x-python",
   "name": "python",
   "nbconvert_exporter": "python",
   "pygments_lexer": "ipython3",
   "version": "3.11.4"
  }
 },
 "nbformat": 4,
 "nbformat_minor": 2
}
