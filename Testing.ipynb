{
 "cells": [
  {
   "cell_type": "code",
   "execution_count": 34,
   "metadata": {},
   "outputs": [],
   "source": [
    "#from PyPDF2 import PdfReader\n",
    "import PyPDF2\n",
    "import pandas as pd\n",
    "import openai\n",
    "import os\n",
    "from pdfminer.pdfdocument import PDFDocument\n",
    "from pdfminer.pdfparser import PDFParser\n",
    "\n",
    "from dotenv import load_dotenv, find_dotenv\n",
    "_ = load_dotenv(find_dotenv())\n",
    "\n",
    "openai.api_key  = os.getenv('OPENAI_API_KEY')\n",
    "state = \"Colorado\""
   ]
  },
  {
   "cell_type": "code",
   "execution_count": 43,
   "metadata": {},
   "outputs": [
    {
     "ename": "ValueError",
     "evalue": "seek of closed file",
     "output_type": "error",
     "traceback": [
      "\u001b[0;31m---------------------------------------------------------------------------\u001b[0m",
      "\u001b[0;31mValueError\u001b[0m                                Traceback (most recent call last)",
      "\u001b[1;32m/Users/melsmac/Desktop/Portfolio Proj/AIXcelTarriffs/PDFMinerTest.ipynb Cell 2\u001b[0m line \u001b[0;36m2\n\u001b[1;32m     <a href='vscode-notebook-cell:/Users/melsmac/Desktop/Portfolio%20Proj/AIXcelTarriffs/PDFMinerTest.ipynb#X12sZmlsZQ%3D%3D?line=17'>18</a>\u001b[0m     \u001b[39mfor\u001b[39;00m page \u001b[39min\u001b[39;00m PDFPage\u001b[39m.\u001b[39mcreate_pages(doc):\n\u001b[1;32m     <a href='vscode-notebook-cell:/Users/melsmac/Desktop/Portfolio%20Proj/AIXcelTarriffs/PDFMinerTest.ipynb#X12sZmlsZQ%3D%3D?line=18'>19</a>\u001b[0m         interpreter\u001b[39m.\u001b[39mprocess_page(page)\n\u001b[0;32m---> <a href='vscode-notebook-cell:/Users/melsmac/Desktop/Portfolio%20Proj/AIXcelTarriffs/PDFMinerTest.ipynb#X12sZmlsZQ%3D%3D?line=19'>20</a>\u001b[0m \u001b[39mprint\u001b[39m(\u001b[39mlen\u001b[39m(PDFDocument(parser)\u001b[39m.\u001b[39mget_pages()))\n\u001b[1;32m     <a href='vscode-notebook-cell:/Users/melsmac/Desktop/Portfolio%20Proj/AIXcelTarriffs/PDFMinerTest.ipynb#X12sZmlsZQ%3D%3D?line=20'>21</a>\u001b[0m \u001b[39m#print(output_string.getvalue())\u001b[39;00m\n",
      "File \u001b[0;32m/opt/homebrew/lib/python3.11/site-packages/pdfminer/pdfdocument.py:557\u001b[0m, in \u001b[0;36mPDFDocument.__init__\u001b[0;34m(self, parser, password, caching, fallback)\u001b[0m\n\u001b[1;32m    554\u001b[0m \u001b[39m# Retrieve the information of each header that was appended\u001b[39;00m\n\u001b[1;32m    555\u001b[0m \u001b[39m# (maybe multiple times) at the end of the document.\u001b[39;00m\n\u001b[1;32m    556\u001b[0m \u001b[39mtry\u001b[39;00m:\n\u001b[0;32m--> 557\u001b[0m     pos \u001b[39m=\u001b[39m \u001b[39mself\u001b[39;49m\u001b[39m.\u001b[39;49mfind_xref(parser)\n\u001b[1;32m    558\u001b[0m     \u001b[39mself\u001b[39m\u001b[39m.\u001b[39mread_xref_from(parser, pos, \u001b[39mself\u001b[39m\u001b[39m.\u001b[39mxrefs)\n\u001b[1;32m    559\u001b[0m \u001b[39mexcept\u001b[39;00m PDFNoValidXRef:\n",
      "File \u001b[0;32m/opt/homebrew/lib/python3.11/site-packages/pdfminer/pdfdocument.py:759\u001b[0m, in \u001b[0;36mPDFDocument.find_xref\u001b[0;34m(self, parser)\u001b[0m\n\u001b[1;32m    757\u001b[0m \u001b[39m# search the last xref table by scanning the file backwards.\u001b[39;00m\n\u001b[1;32m    758\u001b[0m prev \u001b[39m=\u001b[39m \u001b[39mNone\u001b[39;00m\n\u001b[0;32m--> 759\u001b[0m \u001b[39mfor\u001b[39;00m line \u001b[39min\u001b[39;00m parser\u001b[39m.\u001b[39mrevreadlines():\n\u001b[1;32m    760\u001b[0m     line \u001b[39m=\u001b[39m line\u001b[39m.\u001b[39mstrip()\n\u001b[1;32m    761\u001b[0m     \u001b[39mif\u001b[39;00m \u001b[39mself\u001b[39m\u001b[39m.\u001b[39mdebug:\n",
      "File \u001b[0;32m/opt/homebrew/lib/python3.11/site-packages/pdfminer/psparser.py:257\u001b[0m, in \u001b[0;36mPSBaseParser.revreadlines\u001b[0;34m(self)\u001b[0m\n\u001b[1;32m    252\u001b[0m \u001b[39mdef\u001b[39;00m \u001b[39mrevreadlines\u001b[39m(\u001b[39mself\u001b[39m):\n\u001b[1;32m    253\u001b[0m \u001b[39m    \u001b[39m\u001b[39m\"\"\"Fetches a next line backward.\u001b[39;00m\n\u001b[1;32m    254\u001b[0m \n\u001b[1;32m    255\u001b[0m \u001b[39m    This is used to locate the trailers at the end of a file.\u001b[39;00m\n\u001b[1;32m    256\u001b[0m \u001b[39m    \"\"\"\u001b[39;00m\n\u001b[0;32m--> 257\u001b[0m     \u001b[39mself\u001b[39m\u001b[39m.\u001b[39mfp\u001b[39m.\u001b[39mseek(\u001b[39m0\u001b[39m, \u001b[39m2\u001b[39m)\n\u001b[1;32m    258\u001b[0m     pos \u001b[39m=\u001b[39m \u001b[39mself\u001b[39m\u001b[39m.\u001b[39mfp\u001b[39m.\u001b[39mtell()\n\u001b[1;32m    259\u001b[0m     buf \u001b[39m=\u001b[39m \u001b[39mb\u001b[39m\u001b[39m'\u001b[39m\u001b[39m'\u001b[39m\n",
      "\u001b[0;31mValueError\u001b[0m: seek of closed file"
     ]
    }
   ],
   "source": [
    "from io import StringIO\n",
    "\n",
    "from pdfminer.converter import TextConverter\n",
    "from pdfminer.layout import LAParams\n",
    "from pdfminer.pdfdocument import PDFDocument\n",
    "from pdfminer.pdfinterp import PDFResourceManager, PDFPageInterpreter\n",
    "from pdfminer.pdfpage import PDFPage\n",
    "from pdfminer.pdfparser import PDFParser\n",
    "\n",
    "psco_tar = \"PSCo_Electric_Entire_Tariff.pdf\"\n",
    "output_string = StringIO()\n",
    "with open(psco_tar, 'rb') as in_file:\n",
    "    parser = PDFParser(in_file)\n",
    "    doc = PDFDocument(parser)\n",
    "    rsrcmgr = PDFResourceManager()\n",
    "    device = TextConverter(rsrcmgr, output_string, laparams=LAParams())\n",
    "    interpreter = PDFPageInterpreter(rsrcmgr, device)\n",
    "    for page in PDFPage.create_pages(doc):\n",
    "        interpreter.process_page(page)\n",
    "\n",
    "print(output_string.getvalue())\n"
   ]
  },
  {
   "cell_type": "code",
   "execution_count": 48,
   "metadata": {},
   "outputs": [
    {
     "name": "stdout",
     "output_type": "stream",
     "text": [
      "<PDFPage: Resources={'ColorSpace': {'CS0': <PDFObjRef:33385>}, 'Font': {'TT0': <PDFObjRef:2152>, 'TT1': <PDFObjRef:2150>, 'TT2': <PDFObjRef:2151>, 'TT3': <PDFObjRef:2153>}}, MediaBox=[0.0, 0.0, 612.0, 792.0]>\n"
     ]
    }
   ],
   "source": [
    "fp = open(\"PSCo_Electric_Entire_Tariff.pdf\", 'rb')\n",
    "parser = PDFParser(fp)\n",
    "document = PDFDocument(parser)\n",
    "\n",
    "for pageNumber, page in enumerate(PDFPage.create_pages(document)):\n",
    "    if pageNumber == 42:\n",
    "        print(page)\n"
   ]
  },
  {
   "cell_type": "code",
   "execution_count": 45,
   "metadata": {},
   "outputs": [
    {
     "data": {
      "text/plain": [
       "<PDFPage: Resources={'ColorSpace': {'CS0': <PDFObjRef:33385>}, 'Font': {'TT0': <PDFObjRef:2450>, 'TT1': <PDFObjRef:2452>, 'TT2': <PDFObjRef:2451>, 'TT3': <PDFObjRef:2453>, 'TT4': <PDFObjRef:2454>}}, MediaBox=[0.0, 0.0, 612.0, 792.0]>"
      ]
     },
     "execution_count": 45,
     "metadata": {},
     "output_type": "execute_result"
    }
   ],
   "source": [
    "page"
   ]
  },
  {
   "cell_type": "code",
   "execution_count": null,
   "metadata": {},
   "outputs": [],
   "source": [
    "#Original Code that was too long for pdf\n",
    "\n",
    "psco_tar = \"PSCo_Electric_Entire_Tariff.pdf\"\n",
    "\n",
    "state = 'Colorado'\n",
    "# Open the PDF file in read-binary mode\n",
    "with open(psco_tar, 'rb') as pdf_file:\n",
    "    pdf_reader = PyPDF2.PdfReader(pdf_file)\n",
    "    \n",
    "    # Initialize an empty string to store the extracted text\n",
    "    text = ''\n",
    "    \n",
    "    # Iterate through each page in the PDF and extract the text\n",
    "    for page_num in range(len(pdf_reader.pages)):\n",
    "        page = pdf_reader.pages[page_num]\n",
    "        text += page.extract_text()\n",
    "\n",
    "# Close the PDF file\n",
    "pdf_file.close()\n",
    "\n",
    "prompt = f\"\"\"\n",
    "I am a data analyst who works for an electric company.  My company has tariffs setup for pricing in ```{state}``` \n",
    "Read through the text below and return a summary Structured as below if the data is found:\n",
    "\n",
    "\"<Section>\n",
    "    - <Category>: \n",
    "        <Summary by category>\"\n",
    "\n",
    "Here are the categories by section and what should be summarized in each category:\n",
    "\n",
    "Territory\n",
    "    - Counties: list of counties\n",
    "\n",
    "Cost Structure\n",
    "    - Rates: a bulleted list of \"<rate name>:<cost>\"\n",
    "        - Seasonal - a bulleted list of seasonal changes in rate\n",
    "        - Time of Use - a bulleted list of Time of Use (TOU)\n",
    "        - Incentives - ie renewable, saver switch, demand response programs, etc.\n",
    "    - Taxes and Fees \n",
    "    - Measurement - how the data will be measured by the meter.\n",
    "\n",
    "Electric Market\n",
    "    - Tariff Type - ie transmission, generation, distribution, surcharges\n",
    "    - Demand type - ie commercial, industrial or residential\n",
    "\n",
    "Regulatory\n",
    "    - Regulatory - compliance\n",
    "\n",
    "The text is\n",
    "```{text}```\n",
    "\"\"\"\n",
    "\n",
    "def get_completion(prompt, model=\"gpt-4-1106-preview\"):\n",
    "    messages = [{\"role\": \"user\", \"content\": prompt}]\n",
    "    response = openai.ChatCompletion.create(\n",
    "        model=model,\n",
    "        messages=messages,\n",
    "        temperature=0, # this is the degree of randomness of the model's output\n",
    "    )\n",
    "    return response.choices[0].message[\"content\"]\n",
    "\n",
    "\n",
    "response = get_completion(prompt)\n",
    "print(response)"
   ]
  },
  {
   "cell_type": "code",
   "execution_count": 30,
   "metadata": {},
   "outputs": [
    {
     "name": "stdout",
     "output_type": "stream",
     "text": [
      "1 20161208132801\n",
      "1 20161208133049\n",
      "2 Recycled Energy\n",
      "2 PURCHASED CAPACITY COST ADJUSTMENT\n",
      "2 Residential Service\n",
      "2 Small Commercial Service\n",
      "2 Commercial & Industrial General Service\n",
      "2 Special Contract Service\n",
      "2 Recycled Energy\n",
      "3 PURCHASED CAPACITY COST ADJUSTMENT\n",
      "2 Standby Service\n",
      "2 Lighting Service\n",
      "2 Residential Service\n",
      "2 Small Commercial Service\n",
      "2 Commercial & Industrial General Service\n",
      "2 Special Contract Service\n",
      "2 Recycled Energy\n",
      "2 Standby Service\n",
      "2 Lighting Service\n",
      "2 Residential Service\n",
      "2 Small Commercial Service\n",
      "2 Commercial & Industrial General Service\n",
      "2 Special Contract Service\n",
      "2 Recycled Energy\n",
      "2 Standby Service\n",
      "2 Lighting Service\n",
      "2 ELECTRIC SALES RATES\n",
      "2 Commercial and Industrial Transmission Service:\n",
      "2 Transmission General  Schedule TG  70\n",
      "2 Transmission General Critical Peak Pricing Schedule TG-CPP  71\n",
      "2 Transmission Standby Service Schedule TST  72\n",
      "2 Commercial and Industrial Special Contract:\n",
      "2 Regional Transportation District Schedule SCS-7  80\n",
      "2 Regional Transportation District Schedule SCS-8  81\n",
      "2 Commercial Outdoor Area Lighting Schedule CAL  91\n",
      "2 Parking Lot Lighting Service Schedule PLL  92\n",
      "2 Public Street and Highway Lighting Service:\n",
      "2 Metered Street Lighting Service Schedule MSL  95\n",
      "2 Metered Intersection Service Schedule MI  96\n",
      "2 Energy Only Street Lighting Service Schedule ESL  97\n",
      "2 Street Lighting Service Schedule SL  98\n",
      "2 Special Street Lighting Service Schedule SSL  99\n",
      "2 Customer-Owned Lighting Service  Schedule COL  100\n",
      "2 Unincorporated Areas Schedule SLU  101\n",
      "2 Traffic Signal Lighting Schedule TSL  102\n",
      "2 SCHEDULE NM\n",
      "3 DEFINITIONS\n",
      "3 DEFINITIONS – Cont’d\n",
      "2 RULES AND REGULATIONS\n",
      "2 RULES AND REGULATIONS – Cont’d\n",
      "2 PHYSICAL CONTROL\n",
      "3 PHYSICAL CONTROL – Cont’d\n",
      "2 LIMITATION OF LIABILITY\n",
      "2 SERVICE PERIOD\n",
      "2 RULES AND REGULATIONS\n",
      "2 All Kilowatt-Hours used, per kWh           0.07240\n",
      "2 All Kilowatt-Hours used, per kWh  0.06237\n",
      "2 All Kilowatt-Hours used, per kWh  0.05461\n",
      "2 SERVICE PERIOD\n",
      "2 RULES AND REGULATIONS\n",
      "2 Recycled Energy\n",
      "2 TEP Adjustment\n",
      "2 TEP REVENUE REQUIREMENT\n",
      "2 Aggregated Data Report\n",
      "2 An Aggregated Data Report is a report that provides Aggregated Data and that meets the 15/15 aggregation requirement under the Commission’s Rules.  “Aggregated Data” means Customer Data, alone or in combination with non-Customer Data, resulting from ...\n",
      "2 Standard Aggregated Data Reports\n",
      "2 A Standard Aggregated Data Report contains Aggregated Data such as usage, revenue, and program participation, and can be generated by the Company using its standard reporting system, as outlined by the Company’s geographical data boundaries.  The avai...\n",
      "2  Frequency of Data Collection.  Limited to up to thirty-six (36) Months of data, one report annually.\n",
      "2  Method of Transmittal.  Standard Aggregated Data Reports will be provided via a secure electronic format.\n",
      "2  Charge.  There is no charge for a Standard Aggregated Data Report.\n",
      "2  Timeframe for Processing Requests. The Company requires ten (10) business days to provide a Standard Aggregated Data Report.\n",
      "2  Form.  Standard Aggregated Data Reports can be requested by contacting the Company at the following link:  https://www.xcelenergy.com/customer_support/contact_us_form.  The request must include the name of the requester, requester’s company name (if...\n",
      "2 Aggregated Data Report – Cont’d\n",
      "2  Frequency of Data Collection.  Limited to up to thirty-six (36) Months of data, no more frequently than Monthly.\n",
      "2  Method of Transmittal.  Non-Standard Aggregated Data Reports will be provided via a secure electronic format.\n",
      "2  Charge.  The Non-Standard Aggregated Data Report is compiled based on an hourly charge per report, as set forth in the Schedule of Charges for Rendering Service.\n",
      "2  Timeframe for Processing Requests. The Company requires more than ten (10) business days to provide a Non-Standard Aggregated Data Report, and the timing is dependent on the nature of the request.\n",
      "2  Form.  Non-Standard Aggregated Data Reports can be requested by contacting the Company at the following link:  https://www.xcelenergy.com/customer_support/contact_us_form.  The report request must include the name of the requester, requester’s compa...\n",
      "2 Whole Building Energy Use Data Report\n",
      "2 If requested by a property owner or its authorized agent, the Company will provide a Whole Building Energy Use Data Report containing only whole building energy use data to the property owner or its authorized agent as required by rule 3034.  Whole bu...\n"
     ]
    }
   ],
   "source": [
    "from pdfminer.pdfparser import PDFParser\n",
    "from pdfminer.pdfdocument import PDFDocument\n",
    "from pdfminer.pdfinterp import PDFResourceManager,PDFPageInterpreter\n",
    "from pdfminer.converter import PDFPageAggregator\n",
    "from pdfminer.layout import LAParams\n",
    "from pdfminer.pdfpage import PDFPage\n",
    "from pdfminer.layout import LTTextBox\n",
    "\n",
    "# Open a PDF document.\n",
    "fp = open(\"PSCo_Electric_Entire_Tariff.pdf\", 'rb')\n",
    "parser = PDFParser(fp)\n",
    "document = PDFDocument(parser)\n",
    "# Get the outlines of the document.\n",
    "outlines = document.get_outlines()\n",
    "for(level,title,dest,a,se) in outlines:\n",
    "    #print (' '.join(title.split(' ')[1:]))\n",
    "    print (level,title)\n",
    "\n",
    "if not document.is_extractable:\n",
    "    raise PDFTextExtractionNotAllowed\n",
    "# Create a PDF resource manager object that stores shared resources.\n",
    "rsrcmgr = PDFResourceManager()\n",
    "# Create a PDF device object.\n",
    "laparams = LAParams()\n",
    "device = PDFPageAggregator(rsrcmgr, laparams=laparams)\n",
    "# Create a PDF interpreter object.\n",
    "interpreter = PDFPageInterpreter(rsrcmgr, device)\n",
    "# Process each page contained in the document.\n",
    "text_from_pdf = open('textFromPdf.txt','w')\n",
    "for page in PDFPage.create_pages(document):\n",
    "    interpreter.process_page(page)\n",
    "    layout = device.get_result()\n",
    "    for element in layout:\n",
    "        if isinstance(element, LTTextBox):\n",
    "            text_from_pdf.write(''.join([i if ord(i) < 128 else ' ' for i in element.get_text()]))"
   ]
  },
  {
   "cell_type": "code",
   "execution_count": 16,
   "metadata": {},
   "outputs": [
    {
     "ename": "AttributeError",
     "evalue": "'generator' object has no attribute 'level'",
     "output_type": "error",
     "traceback": [
      "\u001b[0;31m---------------------------------------------------------------------------\u001b[0m",
      "\u001b[0;31mAttributeError\u001b[0m                            Traceback (most recent call last)",
      "\u001b[1;32m/Users/melsmac/Desktop/Portfolio Proj/AIXcelTarriffs/PDFMinerTest.ipynb Cell 2\u001b[0m line \u001b[0;36m1\n\u001b[0;32m----> <a href='vscode-notebook-cell:/Users/melsmac/Desktop/Portfolio%20Proj/AIXcelTarriffs/PDFMinerTest.ipynb#W3sZmlsZQ%3D%3D?line=0'>1</a>\u001b[0m outlines\u001b[39m.\u001b[39;49mlevel()\n",
      "\u001b[0;31mAttributeError\u001b[0m: 'generator' object has no attribute 'level'"
     ]
    }
   ],
   "source": [
    "outlines.level()"
   ]
  },
  {
   "cell_type": "code",
   "execution_count": 12,
   "metadata": {},
   "outputs": [
    {
     "ename": "NameError",
     "evalue": "name 'PDFDocument' is not defined",
     "output_type": "error",
     "traceback": [
      "\u001b[0;31m---------------------------------------------------------------------------\u001b[0m",
      "\u001b[0;31mNameError\u001b[0m                                 Traceback (most recent call last)",
      "\u001b[1;32m/Users/melsmac/Desktop/Portfolio Proj/AIXcelTarriffs/PDFMinerTest.ipynb Cell 4\u001b[0m line \u001b[0;36m1\n\u001b[0;32m----> <a href='vscode-notebook-cell:/Users/melsmac/Desktop/Portfolio%20Proj/AIXcelTarriffs/PDFMinerTest.ipynb#W6sZmlsZQ%3D%3D?line=0'>1</a>\u001b[0m PDFDocument(\u001b[39m\"\u001b[39m\u001b[39mPSCo_Electric_Entire_Tariff.pdf\u001b[39m\u001b[39m\"\u001b[39m)\n",
      "\u001b[0;31mNameError\u001b[0m: name 'PDFDocument' is not defined"
     ]
    }
   ],
   "source": [
    "PDFDocument(\"PSCo_Electric_Entire_Tariff.pdf\")"
   ]
  },
  {
   "cell_type": "code",
   "execution_count": 10,
   "metadata": {},
   "outputs": [],
   "source": [
    "def parse(filename, maxlevel):\n",
    "    fp = open(filename, 'rb')\n",
    "    parser = PDFParser(fp)\n",
    "    doc = PDFDocument(fp)\n",
    "    parser.set_document(doc)\n",
    "    doc.set_parser(parser)"
   ]
  },
  {
   "cell_type": "code",
   "execution_count": 11,
   "metadata": {},
   "outputs": [
    {
     "ename": "NameError",
     "evalue": "name 'PDFDocument' is not defined",
     "output_type": "error",
     "traceback": [
      "\u001b[0;31m---------------------------------------------------------------------------\u001b[0m",
      "\u001b[0;31mNameError\u001b[0m                                 Traceback (most recent call last)",
      "\u001b[1;32m/Users/melsmac/Desktop/Portfolio Proj/AIXcelTarriffs/PDFMinerTest.ipynb Cell 5\u001b[0m line \u001b[0;36m1\n\u001b[0;32m----> <a href='vscode-notebook-cell:/Users/melsmac/Desktop/Portfolio%20Proj/AIXcelTarriffs/PDFMinerTest.ipynb#W5sZmlsZQ%3D%3D?line=0'>1</a>\u001b[0m parse(\u001b[39m\"\u001b[39;49m\u001b[39mPSCo_Electric_Entire_Tariff.pdf\u001b[39;49m\u001b[39m\"\u001b[39;49m,\u001b[39m5\u001b[39;49m)\n",
      "\u001b[1;32m/Users/melsmac/Desktop/Portfolio Proj/AIXcelTarriffs/PDFMinerTest.ipynb Cell 5\u001b[0m line \u001b[0;36m4\n\u001b[1;32m      <a href='vscode-notebook-cell:/Users/melsmac/Desktop/Portfolio%20Proj/AIXcelTarriffs/PDFMinerTest.ipynb#W5sZmlsZQ%3D%3D?line=1'>2</a>\u001b[0m fp \u001b[39m=\u001b[39m \u001b[39mopen\u001b[39m(filename, \u001b[39m'\u001b[39m\u001b[39mrb\u001b[39m\u001b[39m'\u001b[39m)\n\u001b[1;32m      <a href='vscode-notebook-cell:/Users/melsmac/Desktop/Portfolio%20Proj/AIXcelTarriffs/PDFMinerTest.ipynb#W5sZmlsZQ%3D%3D?line=2'>3</a>\u001b[0m parser \u001b[39m=\u001b[39m PDFParser(fp)\n\u001b[0;32m----> <a href='vscode-notebook-cell:/Users/melsmac/Desktop/Portfolio%20Proj/AIXcelTarriffs/PDFMinerTest.ipynb#W5sZmlsZQ%3D%3D?line=3'>4</a>\u001b[0m doc \u001b[39m=\u001b[39m PDFDocument(fp)\n\u001b[1;32m      <a href='vscode-notebook-cell:/Users/melsmac/Desktop/Portfolio%20Proj/AIXcelTarriffs/PDFMinerTest.ipynb#W5sZmlsZQ%3D%3D?line=4'>5</a>\u001b[0m parser\u001b[39m.\u001b[39mset_document(doc)\n\u001b[1;32m      <a href='vscode-notebook-cell:/Users/melsmac/Desktop/Portfolio%20Proj/AIXcelTarriffs/PDFMinerTest.ipynb#W5sZmlsZQ%3D%3D?line=5'>6</a>\u001b[0m doc\u001b[39m.\u001b[39mset_parser(parser)\n",
      "\u001b[0;31mNameError\u001b[0m: name 'PDFDocument' is not defined"
     ]
    }
   ],
   "source": [
    "parse(\"PSCo_Electric_Entire_Tariff.pdf\",5)"
   ]
  },
  {
   "cell_type": "code",
   "execution_count": null,
   "metadata": {},
   "outputs": [],
   "source": [
    "outlines = doc.get_outlines()\n",
    "for (level, title, dest, a, se) in outlines:\n",
    "    if level <= maxlevel:\n",
    "        title_words = title \\\n",
    "                .encode('utf8') \\\n",
    "                .replace('\\n', '') \\\n",
    "                .split()\n",
    "        title = ' '.join(title_words)\n",
    "        print(' ' * level, title)"
   ]
  }
 ],
 "metadata": {
  "kernelspec": {
   "display_name": "Python 3",
   "language": "python",
   "name": "python3"
  },
  "language_info": {
   "codemirror_mode": {
    "name": "ipython",
    "version": 3
   },
   "file_extension": ".py",
   "mimetype": "text/x-python",
   "name": "python",
   "nbconvert_exporter": "python",
   "pygments_lexer": "ipython3",
   "version": "3.11.4"
  }
 },
 "nbformat": 4,
 "nbformat_minor": 2
}
